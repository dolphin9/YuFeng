{
 "cells": [
  {
   "cell_type": "markdown",
   "metadata": {},
   "source": [
    "# Exp4: 基于K-近邻的车牌号识别"
   ]
  },
  {
   "cell_type": "markdown",
   "metadata": {},
   "source": [
    "## 一、案例简介\n",
    "\n",
    "图像的智能处理一直是人工智能领域广受关注的一类技术，代表性的如人脸识别与 CT 肿瘤识别，在人工智能落地的进程中发挥着重要作用。其中车牌号识别作为一个早期应用场景，已经融入日常生活中，为我们提供了诸多便利，在各地的停车场和出入口都能看到它的身影。车牌号识别往往分为字符划分和字符识别两个子任务，本案例我们将关注字符识别的任务，尝试用 K-NN 的方法对分割好的字符图像进行自动识别和转化。\n",
    "\n",
    "## 二、作业说明\n",
    "\n",
    "### 基本要求\n",
    "* 完成数据的读入和表示，将图片表示成向量并和 label 对应上；\n",
    "* 构建 K-NN 模型（可调库）对测试集中的图片进行预测并计算准确率；\n",
    "* 分析当 K 取不同值时测试准确率的变化。\n",
    "\n",
    "### 扩展要求\n",
    "* 分析不同距离度量方式对模型效果的影响；\n",
    "* 对比平权和加权 K-NN 的效果；\n",
    "* 分析训练集大小对测试结果的影响。"
   ]
  },
  {
   "cell_type": "markdown",
   "metadata": {},
   "source": [
    "## 三、数据概览\n",
    "本次我们使用已经分割好的车牌图片作为数据集，包括数字 0-9、字母 A-Z（不包含 O 和 I）以及省份简称共 65 个类，编号从 0 到 64。数据已经分成了训练集和测试集，里面的文件夹用 label 编号命名，一个文件夹下的所有图片都属于该文件夹对应的类，每个图片都是 20 * 20 的二值化灰度图。\n",
    "\n",
    "下面演示一下如何借助 PIL 库将图片转化为向量："
   ]
  },
  {
   "cell_type": "code",
   "execution_count": 5,
   "metadata": {},
   "outputs": [
    {
     "data": {
      "image/png": "[encoded data removed]",
      "text/plain": [
       "<PIL.JpegImagePlugin.JpegImageFile image mode=L size=20x20 at 0x1C9038BFA60>"
      ]
     },
     "execution_count": 5,
     "metadata": {},
     "output_type": "execute_result"
    }
   ],
   "source": [
    "from PIL import Image\n",
    "img = Image.open('data/train/0/4-3.jpg')  # 打开图片\n",
    "img  # 显示图片from PIL import Image\n",
    "img = Image.open('data/train/0/4-3.jpg')  # 打开图片\n",
    "img  # 显示图片"
   ]
  },
  {
   "cell_type": "code",
   "execution_count": 6,
   "metadata": {},
   "outputs": [
    {
     "data": {
      "text/plain": [
       "(20, 20)"
      ]
     },
     "execution_count": 6,
     "metadata": {},
     "output_type": "execute_result"
    }
   ],
   "source": [
    "import numpy as np\n",
    "pixels = np.array(img)  # 转化为 numpy 矩阵\n",
    "pixels.shape"
   ]
  },
  {
   "cell_type": "markdown",
   "metadata": {},
   "source": [
    "## 四、模型构建"
   ]
  },
  {
   "cell_type": "markdown",
   "metadata": {},
   "source": [
    "取出lable"
   ]
  },
  {
   "cell_type": "code",
   "execution_count": 7,
   "metadata": {},
   "outputs": [],
   "source": [
    "import os\n",
    "def readFileIndex(filepath):\n",
    "    lables = dict()\n",
    "    filetype = '.jpg'\n",
    "    for i in range(0,65):#因为有0-64个类别\n",
    "        str1 = str(i)\n",
    "        filepath1 = os.path.join(filepath,str1)#读取文件夹\n",
    "        for root,dirs,files in os.walk(filepath1):\n",
    "            for j in files:\n",
    "                if filetype+' 'in j+' ':\n",
    "                    str1 = str(i)+'/'+j\n",
    "                    lables[str1] = i\n",
    "    return lables"
   ]
  },
  {
   "cell_type": "markdown",
   "metadata": {},
   "source": [
    "读取图片，将二维数据转为一维"
   ]
  },
  {
   "cell_type": "code",
   "execution_count": 8,
   "metadata": {},
   "outputs": [],
   "source": [
    "def readPict(path):\n",
    "    returanVec=np.zeros(399)\n",
    "    img = Image.open(path)\n",
    "    pixel = np.array(img)\n",
    "    for i in range(19):\n",
    "        for j in range(19):\n",
    "            returanVec[i*19+j]=pixel[i][j]\n",
    "    return returanVec"
   ]
  },
  {
   "cell_type": "code",
   "execution_count": 9,
   "metadata": {},
   "outputs": [],
   "source": [
    "def readFileContent(lables,flag):\n",
    "    X = []\n",
    "    Y = []\n",
    "    for lableName in lables:#取出每一个路径进行读取\n",
    "        filename = lableName\n",
    "        if(flag == 1):#判断是训练集文件夹还是测试集文件夹\n",
    "            pict = readPict('./data/test/' + filename)\n",
    "        else:\n",
    "            pict = readPict('./data/train/' + filename)\n",
    "        X.append(pict)\n",
    "        Y.append(lables[filename])\n",
    "    return X,Y"
   ]
  },
  {
   "cell_type": "code",
   "execution_count": 10,
   "metadata": {},
   "outputs": [],
   "source": [
    "Lables_train = readFileIndex('./data/train')\n",
    "Lables_test = readFileIndex('./data/test')\n",
    "X_train,Y_train = readFileContent(Lables_train, 0)\n",
    "X_test,Y_test = readFileContent(Lables_test, 1)"
   ]
  },
  {
   "cell_type": "code",
   "execution_count": 11,
   "metadata": {},
   "outputs": [
    {
     "name": "stdout",
     "output_type": "stream",
     "text": [
      "0:00:00.965630\n",
      "0:00:00.953560\n",
      "0:00:00.932379\n",
      "0:00:01.082945\n",
      "0:00:01.065586\n",
      "0:00:01.022102\n",
      "0:00:00.975385\n",
      "0:00:00.961586\n",
      "0:00:00.944390\n",
      "0:00:00.937812\n",
      "0:00:00.958001\n",
      "0:00:00.946283\n",
      "0:00:00.940935\n",
      "0:00:00.937168\n",
      "0:00:00.948345\n",
      "0:00:00.938119\n",
      "0:00:00.938458\n",
      "0:00:00.940322\n",
      "0:00:00.945447\n",
      "0:00:00.950407\n",
      "0:00:00.947345\n",
      "0:00:00.939324\n",
      "0:00:00.951013\n",
      "0:00:00.934959\n",
      "0:00:00.941799\n",
      "0:00:00.940619\n",
      "0:00:00.942663\n",
      "0:00:00.945335\n",
      "0:00:00.939614\n",
      "0:00:00.940947\n",
      "0:00:00.920778\n",
      "0:00:00.937484\n",
      "0:00:00.934945\n",
      "0:00:00.936572\n",
      "0:00:00.945139\n",
      "0:00:00.943352\n",
      "0:00:00.940339\n",
      "0:00:00.936063\n",
      "0:00:00.943053\n",
      "0:00:00.942089\n",
      "0:00:00.936364\n",
      "0:00:00.932668\n",
      "0:00:00.942890\n",
      "0:00:00.932347\n",
      "0:00:00.946895\n",
      "0:00:00.934807\n",
      "0:00:00.945125\n",
      "0:00:00.941123\n",
      "0:00:00.936518\n",
      "0:00:00.939752\n",
      "0:00:00.943123\n",
      "0:00:00.946326\n",
      "0:00:00.968026\n",
      "0:00:00.947752\n",
      "0:00:00.946229\n",
      "0:00:00.930183\n",
      "0:00:00.942028\n",
      "0:00:00.928807\n",
      "0:00:00.940439\n",
      "0:00:00.929078\n",
      "0:00:00.935239\n",
      "0:00:00.940706\n",
      "0:00:00.940144\n",
      "0:00:00.935524\n"
     ]
    }
   ],
   "source": [
    "from datetime import datetime\n",
    "from this import s\n",
    "from sklearn.neighbors import KNeighborsClassifier\n",
    "S = []\n",
    "N = []\n",
    "for i in range(1,65):    \n",
    "    start = datetime.now()\n",
    "    neigh = KNeighborsClassifier(weights = 'distance',algorithm=\"kd_tree\", n_neighbors = i)\n",
    "    neigh.fit(X_train,Y_train)\n",
    "    end = datetime.now()\n",
    "    print(end- start)\n",
    "    N.append(i)\n",
    "    S.append(neigh.score(X_test,Y_test))"
   ]
  },
  {
   "cell_type": "code",
   "execution_count": 12,
   "metadata": {},
   "outputs": [
    {
     "data": {
      "image/png": "[encoded data removed]",
      "text/plain": [
       "<Figure size 432x288 with 1 Axes>"
      ]
     },
     "metadata": {
      "needs_background": "light"
     },
     "output_type": "display_data"
    }
   ],
   "source": [
    "from matplotlib import pyplot as plt\n",
    "x = N\n",
    "y = S\n",
    "plt.xlabel(\"n_neighbors\")\n",
    "plt.ylabel(\"score\")\n",
    "plt.plot(x,y,\"ob\")\n",
    "plt.show()"
   ]
  },
  {
   "cell_type": "code",
   "execution_count": 13,
   "metadata": {},
   "outputs": [
    {
     "data": {
      "image/png": "[encoded data removed]",
      "text/plain": [
       "<Figure size 432x288 with 1 Axes>"
      ]
     },
     "metadata": {
      "needs_background": "light"
     },
     "output_type": "display_data"
    }
   ],
   "source": [
    "S = []\n",
    "N = []\n",
    "for i in range(1,65):    \n",
    "    neigh = KNeighborsClassifier(weights = 'uniform', algorithm=\"kd_tree\",n_neighbors = i)\n",
    "    neigh.fit(X_train,Y_train)\n",
    "    N.append(i)\n",
    "    S.append(neigh.score(X_test,Y_test))\n",
    "\n",
    "x = N\n",
    "y = S\n",
    "plt.xlabel(\"n_neighbors\")\n",
    "plt.ylabel(\"score\")\n",
    "plt.plot(x,y,\"ob\")\n",
    "plt.show()"
   ]
  }
 ],
 "metadata": {
  "kernelspec": {
   "display_name": "Python 3.9.12 ('base')",
   "language": "python",
   "name": "python3"
  },
  "language_info": {
   "codemirror_mode": {
    "name": "ipython",
    "version": 3
   },
   "file_extension": ".py",
   "mimetype": "text/x-python",
   "name": "python",
   "nbconvert_exporter": "python",
   "pygments_lexer": "ipython3",
   "version": "3.9.12"
  },
  "vscode": {
   "interpreter": {
    "hash": "91937119f9e03c68e578ef19ac47c21da02b60366121cf795fb85c8039e2d91a"
   }
  }
 },
 "nbformat": 4,
 "nbformat_minor": 4
}
