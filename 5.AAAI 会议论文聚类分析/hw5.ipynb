{
 "cells": [
  {
   "cell_type": "markdown",
   "metadata": {},
   "source": [
    "本次实验以AAAI 2014会议论文数据为基础，要求实现或调用无监督聚类算法，了解聚类方法。"
   ]
  },
  {
   "cell_type": "markdown",
   "metadata": {},
   "source": [
    "### 任务介绍\n",
    "每年国际上召开的大大小小学术会议不计其数，发表了非常多的论文。在计算机领域的一些大型学术会议上，一次就可以发表涉及各个方向的几百篇论文。按论文的主题、内容进行聚类，有助于人们高效地查找和获得所需要的论文。本案例数据来源于AAAI 2014上发表的约400篇文章，由[UCI](https://archive.ics.uci.edu/ml/datasets/AAAI+2014+Accepted+Papers!)公开提供，提供包括标题、作者、关键词、摘要在内的信息，希望大家能根据这些信息，合理地构造特征向量来表示这些论文，并设计实现或调用聚类算法对论文进行聚类。最后也可以对聚类结果进行观察，看每一类都是什么样的论文，是否有一些主题。\n",
    "\n",
    "基本要求：\n",
    "1. 将文本转化为向量，实现或调用无监督聚类算法，对论文聚类，例如10类（可使用已有工具包例如sklearn）；\n",
    "2. 观察每一类中的论文，调整算法使结果较为合理；\n",
    "3. 无监督聚类没有标签，效果较难评价，因此没有硬性指标，跑通即可，主要让大家了解和感受聚类算法，比较简单。\n",
    "\n",
    "扩展要求：\n",
    "1. 对文本向量进行降维，并将聚类结果可视化成散点图。\n",
    "\n",
    "注：group和topic也不能完全算是标签，因为\n",
    "1. 有些文章作者投稿时可能会选择某个group/topic但实际和另外group/topic也相关甚至更相关；\n",
    "2. 一篇文章可能有多个group和topic，作为标签会出现有的文章同属多个类别，这里暂不考虑这样的聚类；\n",
    "3. group和topic的取值很多，但聚类常常希望指定聚合成出例如5/10/20类；\n",
    "4. 感兴趣但同学可以思考利用group和topic信息来量化评价无监督聚类结果，不作要求。\n",
    "\n",
    "提示：\n",
    "1. 高维向量的降维旨在去除一些高相关性的特征维度，保留最有用的信息，用更低维的向量表示高维数据，常用的方法有PCA和t-SNE等；\n",
    "2. 降维与聚类是两件不同的事情，聚类实际上在降维前的高维向量和降维后的低维向量上都可以进行，结果也可能截然不同；\n",
    "3. 高维向量做聚类，降维可视化后若有同一类的点不在一起，是正常的。在高维空间中它们可能是在一起的，降维后损失了一些信息。"
   ]
  },
  {
   "cell_type": "markdown",
   "metadata": {},
   "source": [
    "输入数据"
   ]
  },
  {
   "cell_type": "code",
   "execution_count": 6,
   "metadata": {},
   "outputs": [
    {
     "data": {
      "text/html": [
       "<div>\n",
       "<style scoped>\n",
       "    .dataframe tbody tr th:only-of-type {\n",
       "        vertical-align: middle;\n",
       "    }\n",
       "\n",
       "    .dataframe tbody tr th {\n",
       "        vertical-align: top;\n",
       "    }\n",
       "\n",
       "    .dataframe thead th {\n",
       "        text-align: right;\n",
       "    }\n",
       "</style>\n",
       "<table border=\"1\" class=\"dataframe\">\n",
       "  <thead>\n",
       "    <tr style=\"text-align: right;\">\n",
       "      <th></th>\n",
       "      <th>title</th>\n",
       "      <th>authors</th>\n",
       "      <th>groups</th>\n",
       "      <th>keywords</th>\n",
       "      <th>topics</th>\n",
       "      <th>abstract</th>\n",
       "    </tr>\n",
       "  </thead>\n",
       "  <tbody>\n",
       "    <tr>\n",
       "      <th>count</th>\n",
       "      <td>392</td>\n",
       "      <td>392</td>\n",
       "      <td>392</td>\n",
       "      <td>392</td>\n",
       "      <td>392</td>\n",
       "      <td>392</td>\n",
       "    </tr>\n",
       "    <tr>\n",
       "      <th>unique</th>\n",
       "      <td>392</td>\n",
       "      <td>387</td>\n",
       "      <td>125</td>\n",
       "      <td>392</td>\n",
       "      <td>348</td>\n",
       "      <td>392</td>\n",
       "    </tr>\n",
       "    <tr>\n",
       "      <th>top</th>\n",
       "      <td>Kernelized Bayesian Transfer Learning</td>\n",
       "      <td>Chen Chen and Vincent Ng</td>\n",
       "      <td>Novel Machine Learning Algorithms (NMLA)</td>\n",
       "      <td>cross-domain learning\\ndomain adaptation\\nkern...</td>\n",
       "      <td>GTEP: Social Choice / Voting</td>\n",
       "      <td>Transfer learning considers related but distin...</td>\n",
       "    </tr>\n",
       "    <tr>\n",
       "      <th>freq</th>\n",
       "      <td>1</td>\n",
       "      <td>2</td>\n",
       "      <td>49</td>\n",
       "      <td>1</td>\n",
       "      <td>7</td>\n",
       "      <td>1</td>\n",
       "    </tr>\n",
       "  </tbody>\n",
       "</table>\n",
       "</div>"
      ],
      "text/plain": [
       "                                        title                   authors  \\\n",
       "count                                     392                       392   \n",
       "unique                                    392                       387   \n",
       "top     Kernelized Bayesian Transfer Learning  Chen Chen and Vincent Ng   \n",
       "freq                                        1                         2   \n",
       "\n",
       "                                          groups  \\\n",
       "count                                        392   \n",
       "unique                                       125   \n",
       "top     Novel Machine Learning Algorithms (NMLA)   \n",
       "freq                                          49   \n",
       "\n",
       "                                                 keywords  \\\n",
       "count                                                 392   \n",
       "unique                                                392   \n",
       "top     cross-domain learning\\ndomain adaptation\\nkern...   \n",
       "freq                                                    1   \n",
       "\n",
       "                              topics  \\\n",
       "count                            392   \n",
       "unique                           348   \n",
       "top     GTEP: Social Choice / Voting   \n",
       "freq                               7   \n",
       "\n",
       "                                                 abstract  \n",
       "count                                                 392  \n",
       "unique                                                392  \n",
       "top     Transfer learning considers related but distin...  \n",
       "freq                                                    1  "
      ]
     },
     "execution_count": 6,
     "metadata": {},
     "output_type": "execute_result"
    }
   ],
   "source": [
    "import pandas as pd\n",
    "def load_data(path='./data/[UCI]AAAI-14AcceptedPapers-Papers.csv'):\n",
    "    df_data = pd.read_csv(path)\n",
    "    df_data = df_data.dropna()\n",
    "    return df_data\n",
    "\n",
    "df = load_data()\n",
    "df.describe() "
   ]
  },
  {
   "cell_type": "markdown",
   "metadata": {},
   "source": [
    "去除不客观的特征（groups & topics）"
   ]
  },
  {
   "cell_type": "code",
   "execution_count": 7,
   "metadata": {},
   "outputs": [
    {
     "data": {
      "text/plain": [
       "(392, 9899)"
      ]
     },
     "execution_count": 7,
     "metadata": {},
     "output_type": "execute_result"
    }
   ],
   "source": [
    "from sklearn.feature_extraction.text import TfidfVectorizer, CountVectorizer\n",
    "import numpy as np\n",
    "\n",
    "df_feature = df.drop(['groups', 'topics'],axis=1)\n",
    "\n",
    "cv = CountVectorizer(min_df=0.0, max_df=1.0)\n",
    "X_fea = [[i] for i in range(df.shape[0])]\n",
    "for col in df_feature.columns:\n",
    "    tmp = cv.fit_transform(df_feature[col])\n",
    "    # 每个feature是【样本数×词袋大小】的\n",
    "    feature = tmp.toarray()\n",
    "    X_fea = np.concatenate((X_fea, feature), axis=1)\n",
    "\n",
    "X_fea.shape"
   ]
  },
  {
   "cell_type": "markdown",
   "metadata": {},
   "source": [
    "# 取出最能代表文章主题的三个特征作为后面的评价指标"
   ]
  },
  {
   "cell_type": "code",
   "execution_count": 8,
   "metadata": {},
   "outputs": [],
   "source": [
    "\n",
    "from sklearn.metrics import silhouette_score, calinski_harabasz_score    \n",
    "df_cls = df[['keywords', 'groups', 'topics']]\n",
    "cv = CountVectorizer(min_df=0.2, max_df=1.0)\n",
    "X_cls = [[i] for i in range(df.shape[0])]\n",
    "for col in df_cls.columns:\n",
    "    tmp = cv.fit_transform(df_cls[col])\n",
    "    feature = tmp.toarray()\n",
    "    X_cls = np.concatenate((X_cls, feature), axis=1)\n",
    "\n",
    "def cal_score(result_list):\n",
    "    global X_cls\n",
    "    sh = silhouette_score(X_cls, result_list)\n",
    "    ch = calinski_harabasz_score(X_cls, result_list)\n",
    "    return sh,ch"
   ]
  },
  {
   "cell_type": "markdown",
   "metadata": {},
   "source": []
  },
  {
   "cell_type": "code",
   "execution_count": 11,
   "metadata": {},
   "outputs": [
    {
     "name": "stdout",
     "output_type": "stream",
     "text": [
      "(392, 2)\n"
     ]
    },
    {
     "ename": "NameError",
     "evalue": "name 'silhouette_score' is not defined",
     "output_type": "error",
     "traceback": [
      "\u001b[1;31m---------------------------------------------------------------------------\u001b[0m",
      "\u001b[1;31mNameError\u001b[0m                                 Traceback (most recent call last)",
      "\u001b[1;32md:\\code\\MachineLearning\\5.AAAI 会议论文聚类分析\\hw5.ipynb Cell 10\u001b[0m in \u001b[0;36m<cell line: 7>\u001b[1;34m()\u001b[0m\n\u001b[0;32m     <a href='vscode-notebook-cell:/d%3A/code/MachineLearning/5.AAAI%20%E4%BC%9A%E8%AE%AE%E8%AE%BA%E6%96%87%E8%81%9A%E7%B1%BB%E5%88%86%E6%9E%90/hw5.ipynb#ch0000010?line=10'>11</a>\u001b[0m model \u001b[39m=\u001b[39m KMeans(n_clusters\u001b[39m=\u001b[39m_k)\n\u001b[0;32m     <a href='vscode-notebook-cell:/d%3A/code/MachineLearning/5.AAAI%20%E4%BC%9A%E8%AE%AE%E8%AE%BA%E6%96%87%E8%81%9A%E7%B1%BB%E5%88%86%E6%9E%90/hw5.ipynb#ch0000010?line=11'>12</a>\u001b[0m res \u001b[39m=\u001b[39m model\u001b[39m.\u001b[39mfit_predict(X_pca)\n\u001b[1;32m---> <a href='vscode-notebook-cell:/d%3A/code/MachineLearning/5.AAAI%20%E4%BC%9A%E8%AE%AE%E8%AE%BA%E6%96%87%E8%81%9A%E7%B1%BB%E5%88%86%E6%9E%90/hw5.ipynb#ch0000010?line=12'>13</a>\u001b[0m sh,ch \u001b[39m=\u001b[39m cal_score(res)\n\u001b[0;32m     <a href='vscode-notebook-cell:/d%3A/code/MachineLearning/5.AAAI%20%E4%BC%9A%E8%AE%AE%E8%AE%BA%E6%96%87%E8%81%9A%E7%B1%BB%E5%88%86%E6%9E%90/hw5.ipynb#ch0000010?line=13'>14</a>\u001b[0m \u001b[39mprint\u001b[39m(\u001b[39m'\u001b[39m\u001b[39mk:\u001b[39m\u001b[39m'\u001b[39m,_k, \u001b[39m'\u001b[39m\u001b[39msh:\u001b[39m\u001b[39m'\u001b[39m, sh, \u001b[39m'\u001b[39m\u001b[39mch:\u001b[39m\u001b[39m'\u001b[39m, ch, \u001b[39m'\u001b[39m\u001b[39mscore:\u001b[39m\u001b[39m'\u001b[39m, sh\u001b[39m*\u001b[39mch)\n\u001b[0;32m     <a href='vscode-notebook-cell:/d%3A/code/MachineLearning/5.AAAI%20%E4%BC%9A%E8%AE%AE%E8%AE%BA%E6%96%87%E8%81%9A%E7%B1%BB%E5%88%86%E6%9E%90/hw5.ipynb#ch0000010?line=14'>15</a>\u001b[0m rec[_cmp]\u001b[39m.\u001b[39mappend(sh\u001b[39m*\u001b[39mch)\n",
      "\u001b[1;32md:\\code\\MachineLearning\\5.AAAI 会议论文聚类分析\\hw5.ipynb Cell 10\u001b[0m in \u001b[0;36mcal_score\u001b[1;34m(result_list)\u001b[0m\n\u001b[0;32m      <a href='vscode-notebook-cell:/d%3A/code/MachineLearning/5.AAAI%20%E4%BC%9A%E8%AE%AE%E8%AE%BA%E6%96%87%E8%81%9A%E7%B1%BB%E5%88%86%E6%9E%90/hw5.ipynb#ch0000010?line=8'>9</a>\u001b[0m \u001b[39mdef\u001b[39;00m \u001b[39mcal_score\u001b[39m(result_list):\n\u001b[0;32m     <a href='vscode-notebook-cell:/d%3A/code/MachineLearning/5.AAAI%20%E4%BC%9A%E8%AE%AE%E8%AE%BA%E6%96%87%E8%81%9A%E7%B1%BB%E5%88%86%E6%9E%90/hw5.ipynb#ch0000010?line=9'>10</a>\u001b[0m     \u001b[39mglobal\u001b[39;00m X_cls\n\u001b[1;32m---> <a href='vscode-notebook-cell:/d%3A/code/MachineLearning/5.AAAI%20%E4%BC%9A%E8%AE%AE%E8%AE%BA%E6%96%87%E8%81%9A%E7%B1%BB%E5%88%86%E6%9E%90/hw5.ipynb#ch0000010?line=10'>11</a>\u001b[0m     sh \u001b[39m=\u001b[39m silhouette_score(X_cls, result_list)\n\u001b[0;32m     <a href='vscode-notebook-cell:/d%3A/code/MachineLearning/5.AAAI%20%E4%BC%9A%E8%AE%AE%E8%AE%BA%E6%96%87%E8%81%9A%E7%B1%BB%E5%88%86%E6%9E%90/hw5.ipynb#ch0000010?line=11'>12</a>\u001b[0m     ch \u001b[39m=\u001b[39m calinski_harabasz_score(X_cls, result_list)\n\u001b[0;32m     <a href='vscode-notebook-cell:/d%3A/code/MachineLearning/5.AAAI%20%E4%BC%9A%E8%AE%AE%E8%AE%BA%E6%96%87%E8%81%9A%E7%B1%BB%E5%88%86%E6%9E%90/hw5.ipynb#ch0000010?line=12'>13</a>\u001b[0m     \u001b[39mreturn\u001b[39;00m sh,ch\n",
      "\u001b[1;31mNameError\u001b[0m: name 'silhouette_score' is not defined"
     ]
    }
   ],
   "source": [
    "from sklearn.cluster import KMeans    \n",
    "from sklearn.decomposition import PCA\n",
    "import collections\n",
    "rec = collections.defaultdict(list)\n",
    "for _cmp in [2, 5, 10, 50, 100]:\n",
    "    X_pca = PCA(n_components=_cmp).fit_transform(X_fea)\n",
    "    print(X_pca.shape)\n",
    "    for _k in range(5, 16):\n",
    "        model = KMeans(n_clusters=_k)\n",
    "        res = model.fit_predict(X_pca)\n",
    "        sh,ch = cal_score(res)\n",
    "        print('k:',_k, 'sh:', sh, 'ch:', ch, 'score:', sh*ch)\n",
    "        rec[_cmp].append(sh*ch)"
   ]
  },
  {
   "cell_type": "markdown",
   "metadata": {},
   "source": []
  },
  {
   "cell_type": "code",
   "execution_count": null,
   "metadata": {},
   "outputs": [],
   "source": []
  }
 ],
 "metadata": {
  "kernelspec": {
   "display_name": "Python 3.9.12 ('base')",
   "language": "python",
   "name": "python3"
  },
  "language_info": {
   "codemirror_mode": {
    "name": "ipython",
    "version": 3
   },
   "file_extension": ".py",
   "mimetype": "text/x-python",
   "name": "python",
   "nbconvert_exporter": "python",
   "pygments_lexer": "ipython3",
   "version": "3.9.12"
  },
  "vscode": {
   "interpreter": {
    "hash": "91937119f9e03c68e578ef19ac47c21da02b60366121cf795fb85c8039e2d91a"
   }
  }
 },
 "nbformat": 4,
 "nbformat_minor": 4
}
